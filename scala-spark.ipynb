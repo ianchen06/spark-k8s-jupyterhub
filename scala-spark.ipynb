{
 "cells": [
  {
   "cell_type": "code",
   "execution_count": 1,
   "metadata": {},
   "outputs": [],
   "source": [
    "%%init_spark\n",
    "# Configure the location of the mesos master and spark distribution on HDFS\n",
    "# launcher.jars = [\"/some/local/path/to/a/file.jar\"]\n",
    "launcher.packages = [\"org.elasticsearch:elasticsearch-hadoop:6.6.0\",\n",
    "                     \"org.apache.hadoop:hadoop-aws:2.7.5\",\n",
    "                     \"org.apache.hadoop:hadoop-common:2.7.5\",\n",
    "                     \"com.amazonaws:aws-java-sdk:1.7.4\"]\n",
    "launcher.master = \"k8s://kubernetes.default\"\n",
    "launcher.conf.set(\"spark.submit.deployMode\", \"client\")\n",
    "launcher.conf.set(\"spark.driver.port\", \"7077\")\n",
    "launcher.conf.set(\"spark.kubernetes.container.image\", \"ianchen06/spark-py:v2.4.3\")\n",
    "launcher.conf.set(\"spark.executor.instances\", \"2\")\n",
    "launcher.conf.set(\"spark.app.name\", \"ian\")\n",
    "launcher.conf.set(\"spark.kubernetes.namespace\", \"jupyterhub\")\n",
    "launcher.conf.set(\"spark.hadoop.fs.s3a.impl\", \"org.apache.hadoop.fs.s3a.S3AFileSystem\")\n",
    "launcher.conf.set(\"spark.hadoop.fs.s3a.endpoint\", \"http://10.30.0.151:9000\")\n",
    "launcher.conf.set(\"spark.hadoop.fs.s3a.access.key\", \"MZN9A1HBRJPS338J8VXI\")\n",
    "launcher.conf.set(\"spark.hadoop.fs.s3a.secret.key\", \"ePzAW5OAwIe8Z67ABWve9Jd4NYB+oHNGHabfAlzR\")"
   ]
  },
  {
   "cell_type": "code",
   "execution_count": 2,
   "metadata": {},
   "outputs": [
    {
     "data": {
      "text/plain": [
       "Intitializing Scala interpreter ..."
      ]
     },
     "metadata": {},
     "output_type": "display_data"
    },
    {
     "data": {
      "text/plain": [
       "Spark Web UI available at http://jupyter-ian:4040\n",
       "SparkContext available as 'sc' (version = 2.4.3, master = k8s://https://kubernetes.default, app id = spark-application-1558175637895)\n",
       "SparkSession available as 'spark'\n"
      ]
     },
     "metadata": {},
     "output_type": "display_data"
    },
    {
     "data": {
      "text/plain": [
       "res0: org.apache.spark.sql.SparkSession = org.apache.spark.sql.SparkSession@70fc9d4b\n"
      ]
     },
     "execution_count": 2,
     "metadata": {},
     "output_type": "execute_result"
    }
   ],
   "source": [
    "spark"
   ]
  },
  {
   "cell_type": "code",
   "execution_count": 3,
   "metadata": {},
   "outputs": [
    {
     "data": {
      "text/plain": [
       "res1: org.apache.spark.SparkContext = org.apache.spark.SparkContext@47eb98fb\n"
      ]
     },
     "execution_count": 3,
     "metadata": {},
     "output_type": "execute_result"
    }
   ],
   "source": [
    "sc"
   ]
  },
  {
   "cell_type": "code",
   "execution_count": 4,
   "metadata": {},
   "outputs": [
    {
     "data": {
      "text/plain": [
       "rdd: org.apache.spark.rdd.RDD[Int] = ParallelCollectionRDD[0] at parallelize at <console>:25\n",
       "res2: Array[Int] = Array(589, 559, 787, 6, 430)\n"
      ]
     },
     "execution_count": 4,
     "metadata": {},
     "output_type": "execute_result"
    }
   ],
   "source": [
    "val rdd = sc.parallelize(0 to 999)\n",
    "rdd.takeSample(false, 5)"
   ]
  },
  {
   "cell_type": "code",
   "execution_count": 3,
   "metadata": {},
   "outputs": [
    {
     "data": {
      "text/plain": [
       "reader: org.apache.spark.sql.DataFrameReader = org.apache.spark.sql.DataFrameReader@133cd85b\n",
       "df: org.apache.spark.sql.DataFrame = [author: string, board: string ... 9 more fields]\n"
      ]
     },
     "execution_count": 3,
     "metadata": {},
     "output_type": "execute_result"
    }
   ],
   "source": [
    "val reader = spark.read\n",
    "  .format(\"org.elasticsearch.spark.sql\")\n",
    "  .option(\"es.nodes.wan.only\",\"true\")\n",
    "  .option(\"es.port\",\"9200\")\n",
    "  .option(\"es.net.ssl\",\"false\")\n",
    "  .option(\"es.nodes\", \"10.30.0.121\")\n",
    "\n",
    "val df = reader.load(\"ptt-v1/doc\")"
   ]
  },
  {
   "cell_type": "code",
   "execution_count": 11,
   "metadata": {},
   "outputs": [
    {
     "data": {
      "text/plain": [
       "res6: Long = 183413\n"
      ]
     },
     "execution_count": 11,
     "metadata": {},
     "output_type": "execute_result"
    }
   ],
   "source": [
    "df.count()"
   ]
  },
  {
   "cell_type": "code",
   "execution_count": 12,
   "metadata": {},
   "outputs": [],
   "source": [
    "df.createTempView(\"ptt\")"
   ]
  },
  {
   "cell_type": "code",
   "execution_count": 16,
   "metadata": {},
   "outputs": [
    {
     "name": "stdout",
     "output_type": "stream",
     "text": [
      "+--------+\n",
      "|count(1)|\n",
      "+--------+\n",
      "|  182054|\n",
      "+--------+\n",
      "\n"
     ]
    }
   ],
   "source": [
    "spark.sql(\"SELECT count(*) FROM ptt WHERE author IS NOT null LIMIT 10\").show()"
   ]
  },
  {
   "cell_type": "code",
   "execution_count": 4,
   "metadata": {},
   "outputs": [],
   "source": [
    "df.write.format(\"orc\").save(\"s3a://spark/t\")"
   ]
  },
  {
   "cell_type": "code",
   "execution_count": null,
   "metadata": {},
   "outputs": [],
   "source": []
  }
 ],
 "metadata": {
  "kernelspec": {
   "display_name": "spylon-kernel",
   "language": "scala",
   "name": "spylon-kernel"
  },
  "language_info": {
   "codemirror_mode": "text/x-scala",
   "file_extension": ".scala",
   "help_links": [
    {
     "text": "MetaKernel Magics",
     "url": "https://metakernel.readthedocs.io/en/latest/source/README.html"
    }
   ],
   "mimetype": "text/x-scala",
   "name": "scala",
   "pygments_lexer": "scala",
   "version": "0.4.1"
  }
 },
 "nbformat": 4,
 "nbformat_minor": 2
}
